{
 "metadata": {
  "name": ""
 },
 "nbformat": 3,
 "nbformat_minor": 0,
 "worksheets": [
  {
   "cells": [
    {
     "cell_type": "raw",
     "metadata": {},
     "source": [
      "Please make sure all this ends up on github at the end of each day or commit so that can use from laptop or anywhere else \n"
     ]
    },
    {
     "cell_type": "heading",
     "level": 4,
     "metadata": {},
     "source": [
      "Top-n Mawu and Manin \n"
     ]
    },
    {
     "cell_type": "markdown",
     "metadata": {},
     "source": [
      "Mawu \n",
      "=====\n",
      "\n",
      "Just want to plot how multiplication factors rolls in as we make it higher and higher. and see what happens "
     ]
    },
    {
     "cell_type": "code",
     "collapsed": false,
     "input": [
      "x_axis = [20, 40, 60, 80, 100]"
     ],
     "language": "python",
     "metadata": {},
     "outputs": [],
     "prompt_number": 1
    },
    {
     "cell_type": "code",
     "collapsed": false,
     "input": [
      "mawu_y = [351988, 628780, 882199, 1118817, 1342982]\n",
      "baseline = 51066\n",
      "ratios = [y/baseline for y in mawu_y]"
     ],
     "language": "python",
     "metadata": {},
     "outputs": [],
     "prompt_number": 4
    },
    {
     "cell_type": "code",
     "collapsed": false,
     "input": [
      "plt.plot(x_axis, ratios)\n",
      "plt.xlim(0, 120)\n",
      "plt.ylim(0, 30)"
     ],
     "language": "python",
     "metadata": {},
     "outputs": [
      {
       "metadata": {},
       "output_type": "pyout",
       "prompt_number": 9,
       "text": [
        "(0, 30)"
       ]
      },
      {
       "metadata": {},
       "output_type": "display_data",
       "png": "[encoded data removed]",
       "text": [
        "<matplotlib.figure.Figure at 0x2a04710>"
       ]
      }
     ],
     "prompt_number": 9
    },
    {
     "cell_type": "heading",
     "level": 4,
     "metadata": {},
     "source": [
      "Manin \n"
     ]
    },
    {
     "cell_type": "code",
     "collapsed": false,
     "input": [
      "manin_y = [235091, 420566, 589883, 748858 ,899511]\n",
      "baseline = 60097\n",
      "manin_ratios = [y/baseline for y in manin_y]"
     ],
     "language": "python",
     "metadata": {},
     "outputs": [],
     "prompt_number": 11
    },
    {
     "cell_type": "code",
     "collapsed": false,
     "input": [
      "plt.plot(x_axis, manin_ratios)\n",
      "plt.xlim(0, 120)\n",
      "plt.ylim(0, 25)"
     ],
     "language": "python",
     "metadata": {},
     "outputs": [
      {
       "metadata": {},
       "output_type": "pyout",
       "prompt_number": 13,
       "text": [
        "(0, 25)"
       ]
      },
      {
       "metadata": {},
       "output_type": "display_data",
       "png": "[encoded data removed]",
       "text": [
        "<matplotlib.figure.Figure at 0x29c8790>"
       ]
      }
     ],
     "prompt_number": 13
    },
    {
     "cell_type": "code",
     "collapsed": false,
     "input": [],
     "language": "python",
     "metadata": {},
     "outputs": []
    }
   ],
   "metadata": {}
  }
 ]
}